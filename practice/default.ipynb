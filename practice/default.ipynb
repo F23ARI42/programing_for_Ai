{
 "cells": [
  {
   "cell_type": "code",
   "id": "initial_id",
   "metadata": {
    "collapsed": true,
    "ExecuteTime": {
     "end_time": "2025-02-07T18:26:14.126728Z",
     "start_time": "2025-02-07T18:26:14.103658Z"
    }
   },
   "source": [
    "from math import factorial\n",
    "\n",
    "from pandas.core.algorithms import duplicated\n",
    "from scipy.optimize import bracket\n",
    "from unicodedata import digit\n",
    "\n",
    "from Assigment_1.task_1 import average\n",
    "\n",
    "x=121\n",
    "if str(x)[0]==str(x)[-1]:\n",
    "    print(True)\n",
    "else:\n",
    "    print(False)"
   ],
   "outputs": [
    {
     "name": "stdout",
     "output_type": "stream",
     "text": [
      "True\n"
     ]
    }
   ],
   "execution_count": 6
  },
  {
   "metadata": {
    "ExecuteTime": {
     "end_time": "2025-02-12T18:50:01.826121Z",
     "start_time": "2025-02-12T18:50:01.814822Z"
    }
   },
   "cell_type": "code",
   "source": [
    "class person:\n",
    "    def __init__(self,name,age):\n",
    "        self.name = name\n",
    "        self.age = age\n",
    "p1=person(\"John\",20)\n",
    "print(p1.name,p1.age)"
   ],
   "id": "d645cc1ebf6eeb84",
   "outputs": [
    {
     "name": "stdout",
     "output_type": "stream",
     "text": [
      "John 20\n"
     ]
    }
   ],
   "execution_count": 8
  },
  {
   "metadata": {
    "ExecuteTime": {
     "end_time": "2025-02-07T19:14:01.247828Z",
     "start_time": "2025-02-07T19:14:01.235742Z"
    }
   },
   "cell_type": "code",
   "source": [
    "class student():\n",
    "    def __init__(self,name,age):\n",
    "        self.name = name\n",
    "        self.age = age\n",
    "s1=student(\"John\",20)\n",
    "print(s1.name,s1.age)"
   ],
   "id": "90fcb543aa0b5a0a",
   "outputs": [
    {
     "name": "stdout",
     "output_type": "stream",
     "text": [
      "John 20\n"
     ]
    }
   ],
   "execution_count": 13
  },
  {
   "metadata": {
    "ExecuteTime": {
     "end_time": "2025-02-07T19:18:31.471280Z",
     "start_time": "2025-02-07T19:18:31.458083Z"
    }
   },
   "cell_type": "code",
   "source": [
    "class vechle():\n",
    "    def __init__(self,wheel):\n",
    "        self.wheel = wheel\n",
    "w1=vechle(4)\n",
    "print(w1.wheel)\n",
    "w2=vechle(6)\n",
    "print(w2.wheel)"
   ],
   "id": "45f106b883e70803",
   "outputs": [
    {
     "name": "stdout",
     "output_type": "stream",
     "text": [
      "4\n",
      "6\n"
     ]
    }
   ],
   "execution_count": 14
  },
  {
   "metadata": {
    "ExecuteTime": {
     "end_time": "2025-02-07T19:22:08.407948Z",
     "start_time": "2025-02-07T19:22:08.384977Z"
    }
   },
   "cell_type": "code",
   "source": [
    "class book():\n",
    "    def __init__(self,title,author):\n",
    "        self.name = title\n",
    "        self.author = author\n",
    "b1=book(\"John\",20)\n",
    "print(b1.name,b1.author)\n",
    "b1.price=400\n",
    "print(b1.price,b1.author,b1.name)"
   ],
   "id": "2d22e9083a8ed5d7",
   "outputs": [
    {
     "name": "stdout",
     "output_type": "stream",
     "text": [
      "John 20\n",
      "400 20 John\n"
     ]
    }
   ],
   "execution_count": 15
  },
  {
   "metadata": {
    "ExecuteTime": {
     "end_time": "2025-02-07T19:27:27.616057Z",
     "start_time": "2025-02-07T19:27:27.570214Z"
    }
   },
   "cell_type": "code",
   "source": [
    "class Bankaccount():\n",
    "    def __init__(self,balance):\n",
    "        self.__balance = balance\n",
    "    def get_balance(self):\n",
    "        return self.__balance\n",
    "acount=Bankaccount(100)\n",
    "print(acount.get_balance())"
   ],
   "id": "e24ca54f99916299",
   "outputs": [
    {
     "name": "stdout",
     "output_type": "stream",
     "text": [
      "100\n"
     ]
    },
    {
     "ename": "AttributeError",
     "evalue": "'Bankaccount' object has no attribute 'Bankaccount'",
     "output_type": "error",
     "traceback": [
      "\u001B[1;31m---------------------------------------------------------------------------\u001B[0m",
      "\u001B[1;31mAttributeError\u001B[0m                            Traceback (most recent call last)",
      "Cell \u001B[1;32mIn[16], line 8\u001B[0m\n\u001B[0;32m      6\u001B[0m acount\u001B[38;5;241m=\u001B[39mBankaccount(\u001B[38;5;241m100\u001B[39m)\n\u001B[0;32m      7\u001B[0m \u001B[38;5;28mprint\u001B[39m(acount\u001B[38;5;241m.\u001B[39mget_balance())\n\u001B[1;32m----> 8\u001B[0m \u001B[38;5;28mprint\u001B[39m(acount\u001B[38;5;241m.\u001B[39mBankaccount\u001B[38;5;241m.\u001B[39mget_balance())\n",
      "\u001B[1;31mAttributeError\u001B[0m: 'Bankaccount' object has no attribute 'Bankaccount'"
     ]
    }
   ],
   "execution_count": 16
  },
  {
   "metadata": {
    "ExecuteTime": {
     "end_time": "2025-02-07T19:29:46.286830Z",
     "start_time": "2025-02-07T19:29:46.275387Z"
    }
   },
   "cell_type": "code",
   "source": [
    "class laptop():\n",
    "    def __init__(self,brand,price):\n",
    "        self.brand = brand\n",
    "        self.price = price\n",
    "b1=laptop(\"hp\",20)\n",
    "print(b1.brand,b1.price)\n",
    "b1.price=300\n",
    "print(b1.brand,b1.price)"
   ],
   "id": "866d1fb8baac02ce",
   "outputs": [
    {
     "name": "stdout",
     "output_type": "stream",
     "text": [
      "hp 20\n",
      "hp 300\n"
     ]
    }
   ],
   "execution_count": 18
  },
  {
   "metadata": {
    "ExecuteTime": {
     "end_time": "2025-02-08T18:42:31.732604Z",
     "start_time": "2025-02-08T18:42:31.722590Z"
    }
   },
   "cell_type": "code",
   "source": [
    "class persion:\n",
    "    def __init__(self,name,age):\n",
    "        self.name = name\n",
    "        self.age = age\n",
    "    def introduce(self):\n",
    "        return f\"hello Myname is {self.name} and iam {self.age} old yera\"\n",
    "p1=persion(\"John\",20)\n",
    "print(p1.introduce())"
   ],
   "id": "d1e50ed73b14fa29",
   "outputs": [
    {
     "name": "stdout",
     "output_type": "stream",
     "text": [
      "hello Myname is John and iam 20 old yera\n"
     ]
    }
   ],
   "execution_count": 2
  },
  {
   "metadata": {
    "ExecuteTime": {
     "end_time": "2025-02-08T18:46:32.774330Z",
     "start_time": "2025-02-08T18:46:32.751598Z"
    }
   },
   "cell_type": "code",
   "source": [
    "class Animals:\n",
    "    species = \"mammal\"\n",
    "    def get_species(cls):\n",
    "        return cls.species\n",
    "a1=Animals()\n",
    "print(a1.get_species())"
   ],
   "id": "18fc049bf50a7af7",
   "outputs": [
    {
     "name": "stdout",
     "output_type": "stream",
     "text": [
      "mammal\n"
     ]
    }
   ],
   "execution_count": 3
  },
  {
   "metadata": {
    "ExecuteTime": {
     "end_time": "2025-02-09T13:39:07.451336Z",
     "start_time": "2025-02-09T13:39:07.443896Z"
    }
   },
   "cell_type": "code",
   "source": [
    "def common(list1,list2):\n",
    "    return list(set(list1) & set(list2))\n",
    "print(common([1,9,3],[1,2,3]))"
   ],
   "id": "c43039d3afea0d5",
   "outputs": [
    {
     "name": "stdout",
     "output_type": "stream",
     "text": [
      "[1, 3]\n"
     ]
    }
   ],
   "execution_count": 4
  },
  {
   "metadata": {
    "ExecuteTime": {
     "end_time": "2025-02-09T13:43:02.893666Z",
     "start_time": "2025-02-09T13:43:02.885659Z"
    }
   },
   "cell_type": "code",
   "source": [
    "import prettytable as pt\n",
    "pt = pt.PrettyTable()\n",
    "pt.field_names = [\"Name\", \"Age\"]"
   ],
   "id": "b44df66b17d0215e",
   "outputs": [],
   "execution_count": 8
  },
  {
   "metadata": {
    "ExecuteTime": {
     "end_time": "2025-02-09T13:46:56.266441Z",
     "start_time": "2025-02-09T13:46:56.256311Z"
    }
   },
   "cell_type": "code",
   "source": [
    "dic={\"a\": 1, \"b\": 2, \"c\": 3}\n",
    "rev={v:k for k,v in dic.items()}\n",
    "print(rev)\n"
   ],
   "id": "83889b0371be5081",
   "outputs": [
    {
     "name": "stdout",
     "output_type": "stream",
     "text": [
      "{1: 'a', 2: 'b', 3: 'c'}\n"
     ]
    }
   ],
   "execution_count": 14
  },
  {
   "metadata": {
    "ExecuteTime": {
     "end_time": "2025-02-09T13:49:57.323089Z",
     "start_time": "2025-02-09T13:49:44.228907Z"
    }
   },
   "cell_type": "code",
   "source": [
    "word1=input(\"enter your word\")\n",
    "word2=input(\"enter your word\")\n",
    "if len(word1)==len(word2):\n",
    "    print(True)\n",
    "else:\n",
    "    print(False)"
   ],
   "id": "39f5335d3b449bc6",
   "outputs": [
    {
     "name": "stdout",
     "output_type": "stream",
     "text": [
      "False\n"
     ]
    }
   ],
   "execution_count": 17
  },
  {
   "metadata": {
    "ExecuteTime": {
     "end_time": "2025-02-12T20:12:46.588088Z",
     "start_time": "2025-02-12T20:12:46.577659Z"
    }
   },
   "cell_type": "code",
   "source": [
    "list1=[\"flowers\",\"flow\",\"flight\"]\n",
    "if list1[1].startswith(list1[0]) or list1[0].startswith(list1[1] or list1[2].startswith(list1[0])):\n",
    "    print(list1[1][:2])\n",
    "else:\n",
    "    print(\"//\")"
   ],
   "id": "6c7a86d9e6e2db60",
   "outputs": [
    {
     "name": "stdout",
     "output_type": "stream",
     "text": [
      "fl\n"
     ]
    }
   ],
   "execution_count": 1
  },
  {
   "metadata": {
    "ExecuteTime": {
     "end_time": "2025-02-09T14:50:37.324987Z",
     "start_time": "2025-02-09T14:50:37.316231Z"
    }
   },
   "cell_type": "code",
   "source": [
    "list1=[1,2,3,4,5]\n",
    "check=5\n",
    "if check in list1:\n",
    "    print(list1.index(check))"
   ],
   "id": "2ddd258ed5dea1c6",
   "outputs": [
    {
     "name": "stdout",
     "output_type": "stream",
     "text": [
      "4\n"
     ]
    }
   ],
   "execution_count": 44
  },
  {
   "metadata": {
    "ExecuteTime": {
     "end_time": "2025-02-12T18:38:16.867221Z",
     "start_time": "2025-02-12T18:37:40.221946Z"
    }
   },
   "cell_type": "code",
   "source": [
    "def fuc():\n",
    "    word=input(\"your name :\")\n",
    "    amount=int(input(\"enter your name :\"))\n",
    "    choice=input(\"yes/no :\")\n",
    "    if choice==\"yes\":\n",
    "        fuc()\n",
    "    elif choice==\"no\":\n",
    "        maxmiu=max(amount)\n",
    "        print(maxmiu,word)\n",
    "fuc()"
   ],
   "id": "2ace00c560691e9b",
   "outputs": [
    {
     "ename": "TypeError",
     "evalue": "'int' object is not iterable",
     "output_type": "error",
     "traceback": [
      "\u001B[1;31m---------------------------------------------------------------------------\u001B[0m",
      "\u001B[1;31mTypeError\u001B[0m                                 Traceback (most recent call last)",
      "Cell \u001B[1;32mIn[1], line 10\u001B[0m\n\u001B[0;32m      8\u001B[0m         maxmiu\u001B[38;5;241m=\u001B[39m\u001B[38;5;28mmax\u001B[39m(amount)\n\u001B[0;32m      9\u001B[0m         \u001B[38;5;28mprint\u001B[39m(maxmiu,word)\n\u001B[1;32m---> 10\u001B[0m fuc()\n",
      "Cell \u001B[1;32mIn[1], line 6\u001B[0m, in \u001B[0;36mfuc\u001B[1;34m()\u001B[0m\n\u001B[0;32m      4\u001B[0m choice\u001B[38;5;241m=\u001B[39m\u001B[38;5;28minput\u001B[39m(\u001B[38;5;124m\"\u001B[39m\u001B[38;5;124myes/no :\u001B[39m\u001B[38;5;124m\"\u001B[39m)\n\u001B[0;32m      5\u001B[0m \u001B[38;5;28;01mif\u001B[39;00m choice\u001B[38;5;241m==\u001B[39m\u001B[38;5;124m\"\u001B[39m\u001B[38;5;124myes\u001B[39m\u001B[38;5;124m\"\u001B[39m:\n\u001B[1;32m----> 6\u001B[0m     fuc()\n\u001B[0;32m      7\u001B[0m \u001B[38;5;28;01melif\u001B[39;00m choice\u001B[38;5;241m==\u001B[39m\u001B[38;5;124m\"\u001B[39m\u001B[38;5;124mno\u001B[39m\u001B[38;5;124m\"\u001B[39m:\n\u001B[0;32m      8\u001B[0m     maxmiu\u001B[38;5;241m=\u001B[39m\u001B[38;5;28mmax\u001B[39m(amount)\n",
      "Cell \u001B[1;32mIn[1], line 8\u001B[0m, in \u001B[0;36mfuc\u001B[1;34m()\u001B[0m\n\u001B[0;32m      6\u001B[0m     fuc()\n\u001B[0;32m      7\u001B[0m \u001B[38;5;28;01melif\u001B[39;00m choice\u001B[38;5;241m==\u001B[39m\u001B[38;5;124m\"\u001B[39m\u001B[38;5;124mno\u001B[39m\u001B[38;5;124m\"\u001B[39m:\n\u001B[1;32m----> 8\u001B[0m     maxmiu\u001B[38;5;241m=\u001B[39m\u001B[38;5;28mmax\u001B[39m(amount)\n\u001B[0;32m      9\u001B[0m     \u001B[38;5;28mprint\u001B[39m(maxmiu,word)\n",
      "\u001B[1;31mTypeError\u001B[0m: 'int' object is not iterable"
     ]
    }
   ],
   "execution_count": 1
  },
  {
   "metadata": {
    "ExecuteTime": {
     "end_time": "2025-02-12T18:43:29.453462Z",
     "start_time": "2025-02-12T18:43:01.366804Z"
    }
   },
   "cell_type": "code",
   "source": [
    "def fuc(amounts=[]):\n",
    "    word = input(\"Your name: \")\n",
    "    amount = int(input(\"Enter an amount: \"))\n",
    "    amounts.append(amount)  # Store amounts in a list\n",
    "    choice = input(\"Do you want to enter another? (yes/no): \")\n",
    "    if choice == \"yes\":\n",
    "        fuc(amounts)  # Pass the list to the next function call\n",
    "    elif choice == \"no\":\n",
    "        print(\"Maximum amount:\", max(amounts), \"Name:\", word)\n",
    "\n",
    "fuc()\n"
   ],
   "id": "853ddcac84ce8a77",
   "outputs": [
    {
     "name": "stdout",
     "output_type": "stream",
     "text": [
      "Maximum amount: 130000 Name: zain\n"
     ]
    }
   ],
   "execution_count": 3
  },
  {
   "metadata": {},
   "cell_type": "code",
   "outputs": [],
   "execution_count": null,
   "source": "",
   "id": "ba08a5222aee42ed"
  },
  {
   "metadata": {
    "ExecuteTime": {
     "end_time": "2025-02-12T18:48:48.574187Z",
     "start_time": "2025-02-12T18:48:21.561856Z"
    }
   },
   "cell_type": "code",
   "source": [
    "def fuc():\n",
    "    word = input(\"Your name: \")\n",
    "    amount = int(input(\"Enter an amount: \"))  # Fixed prompt\n",
    "    choice = input(\"Do you want to enter another? (yes/no): \")\n",
    "\n",
    "    if choice == \"yes\":\n",
    "        fuc()  # Recursive call to restart function\n",
    "    elif choice == \"no\":\n",
    "        print(\"Maximum amount:\", amount, \"Name:\", word)  # Fixed max usage\n",
    "\n",
    "fuc()\n"
   ],
   "id": "32ee01c36859b7bf",
   "outputs": [
    {
     "name": "stdout",
     "output_type": "stream",
     "text": [
      "Maximum amount: 100 Name: zain\n"
     ]
    }
   ],
   "execution_count": 7
  },
  {
   "metadata": {
    "ExecuteTime": {
     "end_time": "2025-02-12T18:48:18.449636Z",
     "start_time": "2025-02-12T18:48:18.443603Z"
    }
   },
   "cell_type": "code",
   "source": "'hello'==\"\"",
   "id": "278f1f41ce9997b7",
   "outputs": [],
   "execution_count": null
  },
  {
   "metadata": {},
   "cell_type": "code",
   "source": [
    "list=[1,2,3,4,5]\n",
    "print(max(list))\n"
   ],
   "id": "4417e48149536552",
   "outputs": [
    {
     "name": "stdout",
     "output_type": "stream",
     "text": [
      "5\n"
     ]
    }
   ],
   "execution_count": 2
  },
  {
   "metadata": {
    "ExecuteTime": {
     "end_time": "2025-02-13T14:05:53.340614Z",
     "start_time": "2025-02-13T14:05:50.033480Z"
    }
   },
   "cell_type": "code",
   "source": [
    "#prime nubers\n",
    "num=int(input(\"enter a number\"))\n",
    "if num < 2:\n",
    "    print(\"Not Prime\")\n",
    "else:\n",
    "    for i in range(2,num):\n",
    "        if num%i==0:\n",
    "            print(\"not prime\")\n",
    "            break\n",
    "    else:\n",
    "        print(\"prime\")"
   ],
   "id": "133d149efde460ea",
   "outputs": [
    {
     "name": "stdout",
     "output_type": "stream",
     "text": [
      "not prime\n"
     ]
    }
   ],
   "execution_count": 17
  },
  {
   "metadata": {
    "ExecuteTime": {
     "end_time": "2025-02-13T14:18:28.365277Z",
     "start_time": "2025-02-13T14:18:25.137842Z"
    }
   },
   "cell_type": "code",
   "source": [
    "#factorial\n",
    "num=int(input(\"enter a number\"))\n",
    "fac=1\n",
    "for i in range(num,0,-1):\n",
    "    fac*=i\n",
    "print(fac)"
   ],
   "id": "31fa36b928703ae2",
   "outputs": [
    {
     "name": "stdout",
     "output_type": "stream",
     "text": [
      "120\n"
     ]
    }
   ],
   "execution_count": 26
  },
  {
   "metadata": {
    "ExecuteTime": {
     "end_time": "2025-02-13T14:21:47.958474Z",
     "start_time": "2025-02-13T14:21:42.135268Z"
    }
   },
   "cell_type": "code",
   "source": [
    "word=input(\"enter your word\")\n",
    "reverse=word[::-1]\n",
    "print(reverse)"
   ],
   "id": "e54e84f2ef98d83a",
   "outputs": [
    {
     "name": "stdout",
     "output_type": "stream",
     "text": [
      "siawA\n"
     ]
    }
   ],
   "execution_count": 28
  },
  {
   "metadata": {
    "ExecuteTime": {
     "end_time": "2025-02-13T14:39:28.664295Z",
     "start_time": "2025-02-13T14:39:23.358562Z"
    }
   },
   "cell_type": "code",
   "source": [
    "word=input(\"enter your word\")\n",
    "vowel=\"aeiou\"\n",
    "count=0\n",
    "for letter in word:\n",
    "    if letter in vowel:\n",
    "        count+=1\n",
    "print(count)"
   ],
   "id": "e050ae873acbb4b1",
   "outputs": [
    {
     "name": "stdout",
     "output_type": "stream",
     "text": [
      "2\n"
     ]
    }
   ],
   "execution_count": 37
  },
  {
   "metadata": {
    "ExecuteTime": {
     "end_time": "2025-02-13T14:47:20.270210Z",
     "start_time": "2025-02-13T14:47:11.210157Z"
    }
   },
   "cell_type": "code",
   "source": [
    "word=input(\"enter your word\")\n",
    "if word[0]==word[-1]:\n",
    "    print(\"palindrone\")\n",
    "else:\n",
    "    print(\"not palindrone\")"
   ],
   "id": "815a2b30485e2fbe",
   "outputs": [
    {
     "name": "stdout",
     "output_type": "stream",
     "text": [
      "palindrone\n"
     ]
    }
   ],
   "execution_count": 49
  },
  {
   "metadata": {
    "ExecuteTime": {
     "end_time": "2025-02-14T19:40:42.609840Z",
     "start_time": "2025-02-14T19:40:42.598537Z"
    }
   },
   "cell_type": "code",
   "source": [
    "for i in range(1,101):\n",
    "    print(i)"
   ],
   "id": "65a16c54ef199d07",
   "outputs": [
    {
     "name": "stdout",
     "output_type": "stream",
     "text": [
      "1\n",
      "2\n",
      "3\n",
      "4\n",
      "5\n",
      "6\n",
      "7\n",
      "8\n",
      "9\n",
      "10\n",
      "11\n",
      "12\n",
      "13\n",
      "14\n",
      "15\n",
      "16\n",
      "17\n",
      "18\n",
      "19\n",
      "20\n",
      "21\n",
      "22\n",
      "23\n",
      "24\n",
      "25\n",
      "26\n",
      "27\n",
      "28\n",
      "29\n",
      "30\n",
      "31\n",
      "32\n",
      "33\n",
      "34\n",
      "35\n",
      "36\n",
      "37\n",
      "38\n",
      "39\n",
      "40\n",
      "41\n",
      "42\n",
      "43\n",
      "44\n",
      "45\n",
      "46\n",
      "47\n",
      "48\n",
      "49\n",
      "50\n",
      "51\n",
      "52\n",
      "53\n",
      "54\n",
      "55\n",
      "56\n",
      "57\n",
      "58\n",
      "59\n",
      "60\n",
      "61\n",
      "62\n",
      "63\n",
      "64\n",
      "65\n",
      "66\n",
      "67\n",
      "68\n",
      "69\n",
      "70\n",
      "71\n",
      "72\n",
      "73\n",
      "74\n",
      "75\n",
      "76\n",
      "77\n",
      "78\n",
      "79\n",
      "80\n",
      "81\n",
      "82\n",
      "83\n",
      "84\n",
      "85\n",
      "86\n",
      "87\n",
      "88\n",
      "89\n",
      "90\n",
      "91\n",
      "92\n",
      "93\n",
      "94\n",
      "95\n",
      "96\n",
      "97\n",
      "98\n",
      "99\n",
      "100\n"
     ]
    }
   ],
   "execution_count": 5
  },
  {
   "metadata": {
    "ExecuteTime": {
     "end_time": "2025-02-14T19:42:29.219721Z",
     "start_time": "2025-02-14T19:42:25.519439Z"
    }
   },
   "cell_type": "code",
   "source": [
    "num=int(input(\"enter a number\"))\n",
    "for i in range(1,11):\n",
    "    print(num*i)"
   ],
   "id": "2ebf34d422700853",
   "outputs": [
    {
     "name": "stdout",
     "output_type": "stream",
     "text": [
      "3\n",
      "6\n",
      "9\n",
      "12\n",
      "15\n",
      "18\n",
      "21\n",
      "24\n",
      "27\n",
      "30\n"
     ]
    }
   ],
   "execution_count": 8
  },
  {
   "metadata": {
    "ExecuteTime": {
     "end_time": "2025-02-14T19:43:33.924682Z",
     "start_time": "2025-02-14T19:43:33.915812Z"
    }
   },
   "cell_type": "code",
   "source": [
    "for i in range(1,50):\n",
    "    if i%2!=0:\n",
    "        print(i)"
   ],
   "id": "5e57239be19a8f55",
   "outputs": [
    {
     "name": "stdout",
     "output_type": "stream",
     "text": [
      "1\n",
      "3\n",
      "5\n",
      "7\n",
      "9\n",
      "11\n",
      "13\n",
      "15\n",
      "17\n",
      "19\n",
      "21\n",
      "23\n",
      "25\n",
      "27\n",
      "29\n",
      "31\n",
      "33\n",
      "35\n",
      "37\n",
      "39\n",
      "41\n",
      "43\n",
      "45\n",
      "47\n",
      "49\n"
     ]
    }
   ],
   "execution_count": 10
  },
  {
   "metadata": {
    "ExecuteTime": {
     "end_time": "2025-02-14T19:50:34.299657Z",
     "start_time": "2025-02-14T19:50:34.292285Z"
    }
   },
   "cell_type": "code",
   "source": [
    "rows=5\n",
    "for j in range(1,rows+1):\n",
    "    print(\"*\"*j)"
   ],
   "id": "785d7c5da64611e",
   "outputs": [
    {
     "name": "stdout",
     "output_type": "stream",
     "text": [
      "*\n",
      "**\n",
      "***\n",
      "****\n",
      "*****\n"
     ]
    }
   ],
   "execution_count": 24
  },
  {
   "metadata": {
    "ExecuteTime": {
     "end_time": "2025-02-16T19:22:36.575203Z",
     "start_time": "2025-02-16T19:22:36.563867Z"
    }
   },
   "cell_type": "code",
   "source": [
    "\n",
    "for i in range(1,150):\n",
    "    is_primt=True\n",
    "    for num in range(2, int(num ** 0.5) + 1):\n",
    "        if i%2==0:\n",
    "            is_primt=False\n",
    "            break\n",
    "    if is_primt:\n",
    "        print(i,end=\"\")"
   ],
   "id": "de652034ba34a8b9",
   "outputs": [
    {
     "name": "stdout",
     "output_type": "stream",
     "text": [
      "13456789101112131415161718192021222324252627282930313233343536373839404142434445464748495051525354555657585960616263646566676869707172737475767778798081828384858687888990919293949596979899100101102103104105106107108109110111112113114115116117118119120121122123124125126127128129130131132133134135136137138139140141142143144145146147148149"
     ]
    }
   ],
   "execution_count": 13
  },
  {
   "metadata": {
    "ExecuteTime": {
     "end_time": "2025-02-16T19:26:29.164317Z",
     "start_time": "2025-02-16T19:26:29.153409Z"
    }
   },
   "cell_type": "code",
   "source": [
    "list1=[1,2,3,4,5]\n",
    "list2=[5,6,7,8,9]\n",
    "list3=list1+list2\n",
    "print(list3)"
   ],
   "id": "3d2291d5f1808563",
   "outputs": [
    {
     "name": "stdout",
     "output_type": "stream",
     "text": [
      "[1, 2, 3, 4, 5, 5, 6, 7, 8, 9]\n"
     ]
    }
   ],
   "execution_count": 14
  },
  {
   "metadata": {
    "ExecuteTime": {
     "end_time": "2025-02-16T19:37:39.456158Z",
     "start_time": "2025-02-16T19:37:39.447866Z"
    }
   },
   "cell_type": "code",
   "source": [
    "list1=[1,2,3,4,5]\n",
    "list2=[5,6,7,8,9]\n",
    "list3=[]\n",
    "for i in list1:\n",
    "    if i in list2:\n",
    "        list3.append(i)\n",
    "print(list3)"
   ],
   "id": "c68c6d2a6f6ea59e",
   "outputs": [
    {
     "name": "stdout",
     "output_type": "stream",
     "text": [
      "[5]\n"
     ]
    }
   ],
   "execution_count": 19
  },
  {
   "metadata": {
    "ExecuteTime": {
     "end_time": "2025-02-16T19:56:56.977827Z",
     "start_time": "2025-02-16T19:56:45.338652Z"
    }
   },
   "cell_type": "code",
   "source": [
    "word=input(\"enter your word\")\n",
    "word2=input(\"enter your word\")\n",
    "if sorted(word)==sorted(word2):\n",
    "    print(\"anagrem\")\n",
    "else:\n",
    "    print(\"not anagrem\")"
   ],
   "id": "9d924f32458d9142",
   "outputs": [
    {
     "name": "stdout",
     "output_type": "stream",
     "text": [
      "anagrem\n"
     ]
    }
   ],
   "execution_count": 21
  },
  {
   "metadata": {
    "ExecuteTime": {
     "end_time": "2025-02-16T20:02:52.556471Z",
     "start_time": "2025-02-16T20:02:48.048602Z"
    }
   },
   "cell_type": "code",
   "source": [
    "from collections import Counter\n",
    "word=input(\"enter your word\")\n",
    "cou=Counter(word)\n",
    "print(cou)\n",
    "\n"
   ],
   "id": "1b03005b28a9eb31",
   "outputs": [
    {
     "name": "stdout",
     "output_type": "stream",
     "text": [
      "Counter({'w': 1, 'o': 1, 'r': 1, 'd': 1})\n"
     ]
    }
   ],
   "execution_count": 23
  },
  {
   "metadata": {
    "ExecuteTime": {
     "end_time": "2025-02-16T20:08:16.958903Z",
     "start_time": "2025-02-16T20:08:04.863296Z"
    }
   },
   "cell_type": "code",
   "source": [
    "def cal():\n",
    "    num=int(input(\"enter a number\"))\n",
    "    num2=int(input(\"enter a number\"))\n",
    "    sig=input(\"+,-,/,*\")\n",
    "    if sig==\"+\":\n",
    "         print(num+num2)\n",
    "    elif sig==\"-\":\n",
    "        print(num-num2)\n",
    "    elif sig==\"/\":\n",
    "        print(num/num2)\n",
    "    elif sig==\"*\":\n",
    "        print(num*num2)\n",
    "    else:\n",
    "        print(\"invalid input\")\n",
    "cal()\n"
   ],
   "id": "2f4f36b6bde6489e",
   "outputs": [
    {
     "name": "stdout",
     "output_type": "stream",
     "text": [
      "1\n"
     ]
    }
   ],
   "execution_count": 27
  },
  {
   "metadata": {
    "ExecuteTime": {
     "end_time": "2025-02-16T20:16:02.245952Z",
     "start_time": "2025-02-16T20:16:02.236330Z"
    }
   },
   "cell_type": "code",
   "source": [
    "list1=[1,2,3,4,5,6,7,8,9]\n",
    "sum=0\n",
    "for num in list1:\n",
    "    if num%2==0:\n",
    "        sum+=num\n",
    "print(sum)\n"
   ],
   "id": "a2042c402e5e5460",
   "outputs": [
    {
     "name": "stdout",
     "output_type": "stream",
     "text": [
      "20\n"
     ]
    }
   ],
   "execution_count": 29
  },
  {
   "metadata": {
    "ExecuteTime": {
     "end_time": "2025-02-16T20:22:38.711275Z",
     "start_time": "2025-02-16T20:22:38.664312Z"
    }
   },
   "cell_type": "code",
   "source": [
    "list_tuple=[(\"a\",1),(\"b\",5),(\"b\",6)]\n",
    "dic1=dict(list_tuple)\n",
    "print(dic1)"
   ],
   "id": "dfcd2753264fce77",
   "outputs": [
    {
     "ename": "TypeError",
     "evalue": "'dict' object is not callable",
     "output_type": "error",
     "traceback": [
      "\u001B[1;31m---------------------------------------------------------------------------\u001B[0m",
      "\u001B[1;31mTypeError\u001B[0m                                 Traceback (most recent call last)",
      "Cell \u001B[1;32mIn[35], line 2\u001B[0m\n\u001B[0;32m      1\u001B[0m list_tuple\u001B[38;5;241m=\u001B[39m[(\u001B[38;5;124m\"\u001B[39m\u001B[38;5;124ma\u001B[39m\u001B[38;5;124m\"\u001B[39m,\u001B[38;5;241m1\u001B[39m),(\u001B[38;5;124m\"\u001B[39m\u001B[38;5;124mb\u001B[39m\u001B[38;5;124m\"\u001B[39m,\u001B[38;5;241m5\u001B[39m),(\u001B[38;5;124m\"\u001B[39m\u001B[38;5;124mb\u001B[39m\u001B[38;5;124m\"\u001B[39m,\u001B[38;5;241m6\u001B[39m)]\n\u001B[1;32m----> 2\u001B[0m dic1\u001B[38;5;241m=\u001B[39m\u001B[38;5;28mdict\u001B[39m(list_tuple)\n\u001B[0;32m      3\u001B[0m \u001B[38;5;28mprint\u001B[39m(dic1)\n",
      "\u001B[1;31mTypeError\u001B[0m: 'dict' object is not callable"
     ]
    }
   ],
   "execution_count": 35
  },
  {
   "metadata": {
    "ExecuteTime": {
     "end_time": "2025-02-16T20:20:17.991360Z",
     "start_time": "2025-02-16T20:20:17.945112Z"
    }
   },
   "cell_type": "code",
   "source": "\n",
   "id": "a0734d9c2a2ef9cd",
   "outputs": [
    {
     "ename": "TypeError",
     "evalue": "'dict' object is not callable",
     "output_type": "error",
     "traceback": [
      "\u001B[1;31m---------------------------------------------------------------------------\u001B[0m",
      "\u001B[1;31mTypeError\u001B[0m                                 Traceback (most recent call last)",
      "Cell \u001B[1;32mIn[34], line 2\u001B[0m\n\u001B[0;32m      1\u001B[0m list_of_tuples \u001B[38;5;241m=\u001B[39m [(\u001B[38;5;124m\"\u001B[39m\u001B[38;5;124ma\u001B[39m\u001B[38;5;124m\"\u001B[39m, \u001B[38;5;241m1\u001B[39m), (\u001B[38;5;124m\"\u001B[39m\u001B[38;5;124mb\u001B[39m\u001B[38;5;124m\"\u001B[39m, \u001B[38;5;241m2\u001B[39m), (\u001B[38;5;124m\"\u001B[39m\u001B[38;5;124mc\u001B[39m\u001B[38;5;124m\"\u001B[39m, \u001B[38;5;241m3\u001B[39m)]\n\u001B[1;32m----> 2\u001B[0m dict1 \u001B[38;5;241m=\u001B[39m \u001B[38;5;28mdict\u001B[39m(list_of_tuples)\n\u001B[0;32m      3\u001B[0m \u001B[38;5;28mprint\u001B[39m(dict1)\n",
      "\u001B[1;31mTypeError\u001B[0m: 'dict' object is not callable"
     ]
    }
   ],
   "execution_count": 34
  },
  {
   "metadata": {
    "ExecuteTime": {
     "end_time": "2025-02-16T20:24:11.736826Z",
     "start_time": "2025-02-16T20:24:11.688631Z"
    }
   },
   "cell_type": "code",
   "source": [
    "list_tuple = [(\"a\", 1), (\"b\", 5), (\"b\", 6)]\n",
    "dic1 = dict(list_tuple)  # Works fine unless 'dict' was overwritten\n",
    "print(dic1)\n"
   ],
   "id": "bd4a0bb46e85dee2",
   "outputs": [
    {
     "ename": "TypeError",
     "evalue": "'dict' object is not callable",
     "output_type": "error",
     "traceback": [
      "\u001B[1;31m---------------------------------------------------------------------------\u001B[0m",
      "\u001B[1;31mTypeError\u001B[0m                                 Traceback (most recent call last)",
      "Cell \u001B[1;32mIn[36], line 2\u001B[0m\n\u001B[0;32m      1\u001B[0m list_tuple \u001B[38;5;241m=\u001B[39m [(\u001B[38;5;124m\"\u001B[39m\u001B[38;5;124ma\u001B[39m\u001B[38;5;124m\"\u001B[39m, \u001B[38;5;241m1\u001B[39m), (\u001B[38;5;124m\"\u001B[39m\u001B[38;5;124mb\u001B[39m\u001B[38;5;124m\"\u001B[39m, \u001B[38;5;241m5\u001B[39m), (\u001B[38;5;124m\"\u001B[39m\u001B[38;5;124mb\u001B[39m\u001B[38;5;124m\"\u001B[39m, \u001B[38;5;241m6\u001B[39m)]\n\u001B[1;32m----> 2\u001B[0m dic1 \u001B[38;5;241m=\u001B[39m \u001B[38;5;28mdict\u001B[39m(list_tuple)  \u001B[38;5;66;03m# Works fine unless 'dict' was overwritten\u001B[39;00m\n\u001B[0;32m      3\u001B[0m \u001B[38;5;28mprint\u001B[39m(dic1)\n",
      "\u001B[1;31mTypeError\u001B[0m: 'dict' object is not callable"
     ]
    }
   ],
   "execution_count": 36
  },
  {
   "metadata": {
    "ExecuteTime": {
     "end_time": "2025-02-16T20:29:18.941281Z",
     "start_time": "2025-02-16T20:29:18.928936Z"
    }
   },
   "cell_type": "code",
   "source": [
    "class student:\n",
    "    def __init__(self,name,age,grade):\n",
    "        self.name=name\n",
    "        self.age=age\n",
    "        self.grade=grade\n",
    "    def display(self):\n",
    "        print(self.name,self.age,self.grade)\n",
    "student1=student(\"John\",23,\"A\")\n",
    "student1.display()\n",
    "student2=student(\"John\",23,\"B\")\n",
    "student2.display()\n"
   ],
   "id": "c156676e2da60ded",
   "outputs": [
    {
     "name": "stdout",
     "output_type": "stream",
     "text": [
      "John 23 A\n",
      "John 23 B\n"
     ]
    }
   ],
   "execution_count": 38
  },
  {
   "metadata": {
    "ExecuteTime": {
     "end_time": "2025-02-18T19:25:46.757441Z",
     "start_time": "2025-02-18T19:25:46.744055Z"
    }
   },
   "cell_type": "code",
   "source": [
    "class bank:\n",
    "    def __init__(self,name,balance):\n",
    "        self.name=name\n",
    "        self.balance=balance\n",
    "    def withdraw(self,amount):\n",
    "        if amount < self.balance:\n",
    "            self.balance -= amount\n",
    "            print(f\"Withdrew ${amount}. Remaining balance: ${self.balance}\")\n",
    "        else:\n",
    "            print(\"insufficient balance\")\n",
    "    def deposit(self,amount):\n",
    "        if amount>0:\n",
    "            self.balance+=amount\n",
    "            print(f\"Deposited ${amount}. New balance: ${self.balance}\")\n",
    "        else:\n",
    "            print(\"amount must be positive\")\n",
    "    def display(self):\n",
    "         print(f\"Account Holder: {self.name}, Balance: ${self.balance}\")\n",
    "customer=bank(\"John\",1000)\n",
    "customer.deposit(500)\n",
    "customer.withdraw(500)\n",
    "customer.display()"
   ],
   "id": "a16ceaf1f08e74d2",
   "outputs": [
    {
     "name": "stdout",
     "output_type": "stream",
     "text": [
      "Deposited $500. New balance: $1500\n",
      "Withdrew $500. Remaining balance: $1000\n",
      "Account Holder: John, Balance: $1000\n"
     ]
    }
   ],
   "execution_count": 2
  },
  {
   "metadata": {
    "ExecuteTime": {
     "end_time": "2025-02-18T18:48:39.477009Z",
     "start_time": "2025-02-18T18:48:39.463934Z"
    }
   },
   "cell_type": "code",
   "source": [
    "class library:\n",
    "    def __init__(self,book_name):\n",
    "        self.book_name=book_name\n",
    "    def add_book(self,add_boo):\n",
    "        self.book_name=self.book_name+add_boo\n",
    "    def remove_book(self,book_name):\n",
    "        book_name=\n",
    "    def display(self):\n",
    "        print(self.book_name,end=\"\")\n",
    "lib1=library(\"ENGLISH\")\n",
    "lib1.add_book(\"hindhi\")\n",
    "lib1.remove_book(\"hindhi\")\n",
    "lib1.display()\n"
   ],
   "id": "288abbce482daeb",
   "outputs": [
    {
     "ename": "SyntaxError",
     "evalue": "invalid syntax (3789236456.py, line 7)",
     "output_type": "error",
     "traceback": [
      "\u001B[1;36m  Cell \u001B[1;32mIn[1], line 7\u001B[1;36m\u001B[0m\n\u001B[1;33m    book_name=\u001B[0m\n\u001B[1;37m              ^\u001B[0m\n\u001B[1;31mSyntaxError\u001B[0m\u001B[1;31m:\u001B[0m invalid syntax\n"
     ]
    }
   ],
   "execution_count": 1
  },
  {
   "metadata": {
    "ExecuteTime": {
     "end_time": "2025-02-18T19:39:22.983682Z",
     "start_time": "2025-02-18T19:39:11.344671Z"
    }
   },
   "cell_type": "code",
   "source": [
    "def fuc():\n",
    "    word=input(\"enter a word\")\n",
    "    word2=input(\"enter your word\")\n",
    "    if sorted(word)==sorted(word2):\n",
    "        print(\"anagrem\")\n",
    "    else:\n",
    "        print(\"not anagrem\")\n",
    "fuc()\n"
   ],
   "id": "d647380706f533fd",
   "outputs": [
    {
     "name": "stdout",
     "output_type": "stream",
     "text": [
      "anagrem\n"
     ]
    }
   ],
   "execution_count": 3
  },
  {
   "metadata": {
    "ExecuteTime": {
     "end_time": "2025-02-18T19:49:41.322840Z",
     "start_time": "2025-02-18T19:49:41.313114Z"
    }
   },
   "cell_type": "code",
   "source": [
    "def secouns():\n",
    "    list1=[1,2,3,4,5]\n",
    "    max1=max(list1)\n",
    "    list1.remove(max1)\n",
    "    lar=max(list1)\n",
    "    print(lar)\n",
    "secouns()\n"
   ],
   "id": "1097675ea29d89ea",
   "outputs": [
    {
     "name": "stdout",
     "output_type": "stream",
     "text": [
      "4\n"
     ]
    }
   ],
   "execution_count": 11
  },
  {
   "metadata": {
    "ExecuteTime": {
     "end_time": "2025-02-18T20:08:21.238512Z",
     "start_time": "2025-02-18T20:08:21.218114Z"
    }
   },
   "cell_type": "code",
   "source": [
    "def majourty():\n",
    "    list1=[1,2,3,3,4,4,5]\n",
    "    for num in list1:\n",
    "        var=0\n",
    "        var+=num\n",
    "        if var==num:\n",
    "            return num\n",
    "majourty()\n",
    "\n",
    "majourty()"
   ],
   "id": "83fa488458e843df",
   "outputs": [
    {
     "data": {
      "text/plain": [
       "1"
      ]
     },
     "execution_count": 18,
     "metadata": {},
     "output_type": "execute_result"
    }
   ],
   "execution_count": 18
  },
  {
   "metadata": {
    "jupyter": {
     "is_executing": true
    }
   },
   "cell_type": "code",
   "source": [
    "import math\n",
    "def sqaure():\n",
    "    num=int(input(\"enter a number\"))\n",
    "    sqr=math.sqrt(num)\n",
    "    if sqr*sqr==num:\n",
    "        print(\"perfect square \")\n",
    "    else:\n",
    "        print(\"not perfect square \")\n",
    "sqaure()"
   ],
   "id": "81f89309472dedf5",
   "outputs": [],
   "execution_count": null
  },
  {
   "metadata": {
    "ExecuteTime": {
     "end_time": "2025-02-26T10:23:13.369240Z",
     "start_time": "2025-02-26T10:23:05.013163Z"
    }
   },
   "cell_type": "code",
   "source": [
    "word=input(\"please enter word \")\n",
    "if word[0]==word[-1]:\n",
    "    print(\"palindrone \")\n",
    "else:\n",
    "    print(\"not palindrone\")"
   ],
   "id": "5337ee0b05cc801b",
   "outputs": [
    {
     "name": "stdout",
     "output_type": "stream",
     "text": [
      "palindrone \n"
     ]
    }
   ],
   "execution_count": 1
  },
  {
   "metadata": {
    "ExecuteTime": {
     "end_time": "2025-02-26T10:38:14.274692Z",
     "start_time": "2025-02-26T10:38:00.674252Z"
    }
   },
   "cell_type": "code",
   "source": [
    "height=list(map(float,input(\"enter your height\").split()))\n",
    "sum=0\n",
    "for num in height:\n",
    "    sum+=num\n",
    "\n",
    "avg=sum/len(height)\n",
    "print(avg)\n"
   ],
   "id": "c2bdbf9b5d649c9c",
   "outputs": [
    {
     "name": "stdout",
     "output_type": "stream",
     "text": [
      "5.12\n"
     ]
    }
   ],
   "execution_count": 13
  },
  {
   "metadata": {
    "ExecuteTime": {
     "end_time": "2025-02-26T10:47:04.074508Z",
     "start_time": "2025-02-26T10:46:52.579558Z"
    }
   },
   "cell_type": "code",
   "source": [
    "scores=list(map(int,input(\"enter a score \").split()))\n",
    "maxscore=scores[0]\n",
    "minscore=scores[0]\n",
    "for score in scores:\n",
    "    if score>maxscore:\n",
    "        maxscore=score\n",
    "    elif score<minscore:\n",
    "        minscore=score\n",
    "print(\"max\",maxscore)\n",
    "print(\"minium\",minscore)"
   ],
   "id": "bb5f70c5c1ab9c31",
   "outputs": [
    {
     "name": "stdout",
     "output_type": "stream",
     "text": [
      "max 98\n",
      "minium 14\n"
     ]
    }
   ],
   "execution_count": 19
  },
  {
   "metadata": {
    "ExecuteTime": {
     "end_time": "2025-02-26T10:53:32.591636Z",
     "start_time": "2025-02-26T10:53:27.983700Z"
    }
   },
   "cell_type": "code",
   "source": [
    "year=int(input(\"enter year\"))\n",
    "if year%4==0:\n",
    "    if year%100==0:\n",
    "        if year%400==0:\n",
    "            print(year,\"is a leap year\")\n",
    "        else:\n",
    "            print(year,\"is not a leap year\")\n",
    "    else:\n",
    "        print(year,\"is a leap year\")\n",
    "else:\n",
    "    print(year,\"a not leap year\")"
   ],
   "id": "806e144d0c582ae3",
   "outputs": [
    {
     "name": "stdout",
     "output_type": "stream",
     "text": [
      "2000 is a leap year\n"
     ]
    }
   ],
   "execution_count": 22
  },
  {
   "metadata": {
    "ExecuteTime": {
     "end_time": "2025-02-26T10:56:28.609609Z",
     "start_time": "2025-02-26T10:56:28.580750Z"
    }
   },
   "cell_type": "code",
   "source": [
    "for num in range(1,101):\n",
    "    if num%3==0 and num%5==0:\n",
    "        print(\"fizzbuzz\")\n",
    "    elif num%3==0:\n",
    "        print(\"fizz\")\n",
    "    elif num%5==0:\n",
    "        print(\"buzz\")\n",
    "    else:\n",
    "        print(num)\n"
   ],
   "id": "f86c510adca59735",
   "outputs": [
    {
     "name": "stdout",
     "output_type": "stream",
     "text": [
      "1\n",
      "2\n",
      "fizz\n",
      "4\n",
      "buzz\n",
      "fizz\n",
      "7\n",
      "8\n",
      "fizz\n",
      "buzz\n",
      "11\n",
      "fizz\n",
      "13\n",
      "14\n",
      "fizzbuzz\n",
      "16\n",
      "17\n",
      "fizz\n",
      "19\n",
      "buzz\n",
      "fizz\n",
      "22\n",
      "23\n",
      "fizz\n",
      "buzz\n",
      "26\n",
      "fizz\n",
      "28\n",
      "29\n",
      "fizzbuzz\n",
      "31\n",
      "32\n",
      "fizz\n",
      "34\n",
      "buzz\n",
      "fizz\n",
      "37\n",
      "38\n",
      "fizz\n",
      "buzz\n",
      "41\n",
      "fizz\n",
      "43\n",
      "44\n",
      "fizzbuzz\n",
      "46\n",
      "47\n",
      "fizz\n",
      "49\n",
      "buzz\n",
      "fizz\n",
      "52\n",
      "53\n",
      "fizz\n",
      "buzz\n",
      "56\n",
      "fizz\n",
      "58\n",
      "59\n",
      "fizzbuzz\n",
      "61\n",
      "62\n",
      "fizz\n",
      "64\n",
      "buzz\n",
      "fizz\n",
      "67\n",
      "68\n",
      "fizz\n",
      "buzz\n",
      "71\n",
      "fizz\n",
      "73\n",
      "74\n",
      "fizzbuzz\n",
      "76\n",
      "77\n",
      "fizz\n",
      "79\n",
      "buzz\n",
      "fizz\n",
      "82\n",
      "83\n",
      "fizz\n",
      "buzz\n",
      "86\n",
      "fizz\n",
      "88\n",
      "89\n",
      "fizzbuzz\n",
      "91\n",
      "92\n",
      "fizz\n",
      "94\n",
      "buzz\n",
      "fizz\n",
      "97\n",
      "98\n",
      "fizz\n",
      "buzz\n"
     ]
    }
   ],
   "execution_count": 23
  },
  {
   "metadata": {
    "ExecuteTime": {
     "end_time": "2025-02-26T11:27:28.335994Z",
     "start_time": "2025-02-26T11:27:17.947599Z"
    }
   },
   "cell_type": "code",
   "source": [
    "import random as randi\n",
    "print(\"welcome pypasword generator\")\n",
    "letter=(\"abcdefghijklmnopqrstuvwxyz\").lower()\n",
    "symbol=(\"!@#$%^&*()_+?><|}|}.;'\")\n",
    "digit=(\"0123456789\")\n",
    "num_letter=int(input(\"enter a letter\"))\n",
    "num_symbol=int(input(\"enter a symbol\"))\n",
    "num_digit=int(input(\"enter a digit\"))\n",
    "password=[]\n",
    "for num in range(num_letter):\n",
    "    password.append(randi.choice(letter))\n",
    "for num in range(num_symbol):\n",
    "    password.append(randi.choice(symbol))\n",
    "for num in range(num_digit):\n",
    "    password.append(randi.choice(digit))\n",
    "randi.shuffle(password)\n",
    "final=\"\".join(password)\n",
    "print(final)"
   ],
   "id": "b6b30e1f15e731e9",
   "outputs": [
    {
     "name": "stdout",
     "output_type": "stream",
     "text": [
      "welcome pypasword generator\n",
      "pre<ec|ggotr?p52uvd\n"
     ]
    }
   ],
   "execution_count": 26
  },
  {
   "metadata": {
    "ExecuteTime": {
     "end_time": "2025-02-26T19:03:20.983529Z",
     "start_time": "2025-02-26T19:03:16.653390Z"
    }
   },
   "cell_type": "code",
   "source": [
    "import random\n",
    "word=[\"programing\",\"develop\",\"deep\",\"machine\",\"learning\"]\n",
    "def choose_word():\n",
    "    return random.choice(word)\n",
    "def display(word,guess):\n",
    "    return \"\".join([letter if letter in guess else \"_\" for letter in word])\n",
    "def hugman():\n",
    "    word=choose_word()\n",
    "    guess=set()\n",
    "    lives=10\n",
    "    print(\"welcome hugman game\")\n",
    "    while lives>0:\n",
    "        print(display(word,guess))\n",
    "        word=input(\"enter a letter\")\n",
    "        if len(word)!=1:\n",
    "            print(\"please enter a single letter\")\n",
    "            continue\n",
    "        guess.add(word)\n",
    "        if guess in word:\n",
    "            print(\"correct!\")\n",
    "            if all(letter in guess for letter in word):\n",
    "                print(\"cogurelation\")\n",
    "                break\n",
    "        else:\n",
    "            lives-=1\n",
    "            print(\"wrong word\")\n",
    "    if lives==0:\n",
    "        print(\"you lose\")\n",
    "hugman()\n",
    "\n"
   ],
   "id": "254cc960c8b0e137",
   "outputs": [
    {
     "name": "stdout",
     "output_type": "stream",
     "text": [
      "welcome hugman game\n",
      "_______\n"
     ]
    },
    {
     "ename": "TypeError",
     "evalue": "'in <string>' requires string as left operand, not set",
     "output_type": "error",
     "traceback": [
      "\u001B[1;31m---------------------------------------------------------------------------\u001B[0m",
      "\u001B[1;31mTypeError\u001B[0m                                 Traceback (most recent call last)",
      "Cell \u001B[1;32mIn[9], line 29\u001B[0m\n\u001B[0;32m     27\u001B[0m     \u001B[38;5;28;01mif\u001B[39;00m lives\u001B[38;5;241m==\u001B[39m\u001B[38;5;241m0\u001B[39m:\n\u001B[0;32m     28\u001B[0m         \u001B[38;5;28mprint\u001B[39m(\u001B[38;5;124m\"\u001B[39m\u001B[38;5;124myou lose\u001B[39m\u001B[38;5;124m\"\u001B[39m)\n\u001B[1;32m---> 29\u001B[0m hugman()\n",
      "Cell \u001B[1;32mIn[9], line 19\u001B[0m, in \u001B[0;36mhugman\u001B[1;34m()\u001B[0m\n\u001B[0;32m     17\u001B[0m     \u001B[38;5;28;01mcontinue\u001B[39;00m\n\u001B[0;32m     18\u001B[0m guess\u001B[38;5;241m.\u001B[39madd(word)\n\u001B[1;32m---> 19\u001B[0m \u001B[38;5;28;01mif\u001B[39;00m guess \u001B[38;5;129;01min\u001B[39;00m word:\n\u001B[0;32m     20\u001B[0m     \u001B[38;5;28mprint\u001B[39m(\u001B[38;5;124m\"\u001B[39m\u001B[38;5;124mcorrect!\u001B[39m\u001B[38;5;124m\"\u001B[39m)\n\u001B[0;32m     21\u001B[0m     \u001B[38;5;28;01mif\u001B[39;00m \u001B[38;5;28mall\u001B[39m(letter \u001B[38;5;129;01min\u001B[39;00m guess \u001B[38;5;28;01mfor\u001B[39;00m letter \u001B[38;5;129;01min\u001B[39;00m word):\n",
      "\u001B[1;31mTypeError\u001B[0m: 'in <string>' requires string as left operand, not set"
     ]
    }
   ],
   "execution_count": 9
  },
  {
   "metadata": {
    "ExecuteTime": {
     "end_time": "2025-02-26T19:24:34.887922Z",
     "start_time": "2025-02-26T19:24:29.435318Z"
    }
   },
   "cell_type": "code",
   "source": [
    "def prime(num):\n",
    "    if num<2:\n",
    "        print(\"if number is grater than 1 \")\n",
    "    i=2\n",
    "    while i*i<=num:\n",
    "        if num%i==0:\n",
    "            return False\n",
    "        i+=1\n",
    "    return True\n",
    "num=int(input(\"enter a number\"))\n",
    "if prime(num):\n",
    "    print(\"prime\")\n",
    "else:\n",
    "    print(\"not prime\")\n"
   ],
   "id": "5f195ecb8e38ee46",
   "outputs": [
    {
     "name": "stdout",
     "output_type": "stream",
     "text": [
      "not prime\n"
     ]
    }
   ],
   "execution_count": 13
  },
  {
   "metadata": {
    "ExecuteTime": {
     "end_time": "2025-03-02T08:44:44.129729Z",
     "start_time": "2025-03-02T08:38:02.460044Z"
    }
   },
   "cell_type": "code",
   "source": [
    "def is_prime(num):\n",
    "    if num < 2:  # Numbers less than 2 are not prime\n",
    "        return False\n",
    "    i = 2\n",
    "    while i * i <= num:  # Check divisibility up to sqrt(num)\n",
    "        if num % i == 0:\n",
    "            return False\n",
    "        i += 1  # Correct increment\n",
    "    return True  # Only return True if no divisors were found\n",
    "\n",
    "num = int(input(\"Enter a number: \"))\n",
    "if is_prime(num):\n",
    "    print(\"Prime\")\n",
    "else:\n",
    "    print(\"Not Prime\")\n"
   ],
   "id": "e92627877569fb61",
   "outputs": [
    {
     "ename": "KeyboardInterrupt",
     "evalue": "Interrupted by user",
     "output_type": "error",
     "traceback": [
      "\u001B[1;31m---------------------------------------------------------------------------\u001B[0m",
      "\u001B[1;31mKeyboardInterrupt\u001B[0m                         Traceback (most recent call last)",
      "Cell \u001B[1;32mIn[1], line 11\u001B[0m\n\u001B[0;32m      8\u001B[0m         i \u001B[38;5;241m+\u001B[39m\u001B[38;5;241m=\u001B[39m \u001B[38;5;241m1\u001B[39m  \u001B[38;5;66;03m# Correct increment\u001B[39;00m\n\u001B[0;32m      9\u001B[0m     \u001B[38;5;28;01mreturn\u001B[39;00m \u001B[38;5;28;01mTrue\u001B[39;00m  \u001B[38;5;66;03m# Only return True if no divisors were found\u001B[39;00m\n\u001B[1;32m---> 11\u001B[0m num \u001B[38;5;241m=\u001B[39m \u001B[38;5;28mint\u001B[39m(\u001B[38;5;28minput\u001B[39m(\u001B[38;5;124m\"\u001B[39m\u001B[38;5;124mEnter a number: \u001B[39m\u001B[38;5;124m\"\u001B[39m))\n\u001B[0;32m     12\u001B[0m \u001B[38;5;28;01mif\u001B[39;00m is_prime(num):\n\u001B[0;32m     13\u001B[0m     \u001B[38;5;28mprint\u001B[39m(\u001B[38;5;124m\"\u001B[39m\u001B[38;5;124mPrime\u001B[39m\u001B[38;5;124m\"\u001B[39m)\n",
      "File \u001B[1;32m~\\anaconda3\\Lib\\site-packages\\ipykernel\\kernelbase.py:1282\u001B[0m, in \u001B[0;36mKernel.raw_input\u001B[1;34m(self, prompt)\u001B[0m\n\u001B[0;32m   1280\u001B[0m     msg \u001B[38;5;241m=\u001B[39m \u001B[38;5;124m\"\u001B[39m\u001B[38;5;124mraw_input was called, but this frontend does not support input requests.\u001B[39m\u001B[38;5;124m\"\u001B[39m\n\u001B[0;32m   1281\u001B[0m     \u001B[38;5;28;01mraise\u001B[39;00m StdinNotImplementedError(msg)\n\u001B[1;32m-> 1282\u001B[0m \u001B[38;5;28;01mreturn\u001B[39;00m \u001B[38;5;28mself\u001B[39m\u001B[38;5;241m.\u001B[39m_input_request(\n\u001B[0;32m   1283\u001B[0m     \u001B[38;5;28mstr\u001B[39m(prompt),\n\u001B[0;32m   1284\u001B[0m     \u001B[38;5;28mself\u001B[39m\u001B[38;5;241m.\u001B[39m_parent_ident[\u001B[38;5;124m\"\u001B[39m\u001B[38;5;124mshell\u001B[39m\u001B[38;5;124m\"\u001B[39m],\n\u001B[0;32m   1285\u001B[0m     \u001B[38;5;28mself\u001B[39m\u001B[38;5;241m.\u001B[39mget_parent(\u001B[38;5;124m\"\u001B[39m\u001B[38;5;124mshell\u001B[39m\u001B[38;5;124m\"\u001B[39m),\n\u001B[0;32m   1286\u001B[0m     password\u001B[38;5;241m=\u001B[39m\u001B[38;5;28;01mFalse\u001B[39;00m,\n\u001B[0;32m   1287\u001B[0m )\n",
      "File \u001B[1;32m~\\anaconda3\\Lib\\site-packages\\ipykernel\\kernelbase.py:1325\u001B[0m, in \u001B[0;36mKernel._input_request\u001B[1;34m(self, prompt, ident, parent, password)\u001B[0m\n\u001B[0;32m   1322\u001B[0m \u001B[38;5;28;01mexcept\u001B[39;00m \u001B[38;5;167;01mKeyboardInterrupt\u001B[39;00m:\n\u001B[0;32m   1323\u001B[0m     \u001B[38;5;66;03m# re-raise KeyboardInterrupt, to truncate traceback\u001B[39;00m\n\u001B[0;32m   1324\u001B[0m     msg \u001B[38;5;241m=\u001B[39m \u001B[38;5;124m\"\u001B[39m\u001B[38;5;124mInterrupted by user\u001B[39m\u001B[38;5;124m\"\u001B[39m\n\u001B[1;32m-> 1325\u001B[0m     \u001B[38;5;28;01mraise\u001B[39;00m \u001B[38;5;167;01mKeyboardInterrupt\u001B[39;00m(msg) \u001B[38;5;28;01mfrom\u001B[39;00m \u001B[38;5;28;01mNone\u001B[39;00m\n\u001B[0;32m   1326\u001B[0m \u001B[38;5;28;01mexcept\u001B[39;00m \u001B[38;5;167;01mException\u001B[39;00m:\n\u001B[0;32m   1327\u001B[0m     \u001B[38;5;28mself\u001B[39m\u001B[38;5;241m.\u001B[39mlog\u001B[38;5;241m.\u001B[39mwarning(\u001B[38;5;124m\"\u001B[39m\u001B[38;5;124mInvalid Message:\u001B[39m\u001B[38;5;124m\"\u001B[39m, exc_info\u001B[38;5;241m=\u001B[39m\u001B[38;5;28;01mTrue\u001B[39;00m)\n",
      "\u001B[1;31mKeyboardInterrupt\u001B[0m: Interrupted by user"
     ]
    }
   ],
   "execution_count": 1
  },
  {
   "metadata": {
    "ExecuteTime": {
     "end_time": "2025-03-02T08:45:19.833215Z",
     "start_time": "2025-03-02T08:45:19.824700Z"
    }
   },
   "cell_type": "code",
   "source": [
    "a,b=1,\"2\"\n",
    "c=int(b)\n",
    "print(a+c)\n"
   ],
   "id": "1387532a6b3e786d",
   "outputs": [
    {
     "name": "stdout",
     "output_type": "stream",
     "text": [
      "3\n"
     ]
    }
   ],
   "execution_count": 3
  },
  {
   "metadata": {
    "ExecuteTime": {
     "end_time": "2025-03-02T08:47:51.479081Z",
     "start_time": "2025-03-02T08:47:43.838546Z"
    }
   },
   "cell_type": "code",
   "source": [
    "num=int(input(\"enter a number\"))\n",
    "num2=int(input(\"enter a number\"))\n",
    "if num>num2:\n",
    "    print(True)\n",
    "elif num<num2:\n",
    "   print(False)\n",
    "else:\n",
    "    print(\"equal\")"
   ],
   "id": "44016b4380474277",
   "outputs": [
    {
     "name": "stdout",
     "output_type": "stream",
     "text": [
      "False\n"
     ]
    }
   ],
   "execution_count": 5
  },
  {
   "metadata": {
    "ExecuteTime": {
     "end_time": "2025-03-06T04:24:30.966448Z",
     "start_time": "2025-03-06T04:24:30.956558Z"
    }
   },
   "cell_type": "code",
   "source": [
    "facebook_post=[{\"likes\":21,\"comments\":2},{\"likes\":13,\"comment\":2,\"share\":1},{\"likes\":33,\"comments\":8,\"share\":3},{\"comments\":4,\"share\":2},{\"comments\":1,\"share\":1},{\"likes\":19,\"comments\":3}]\n",
    "total_likes=0\n",
    "for post in facebook_post:\n",
    "    try:\n",
    "        total_likes += post['likes']\n",
    "    except KeyError:\n",
    "        pass\n",
    "print(\"tolal Likes:\",total_likes)"
   ],
   "id": "b2d14f22ba759a6f",
   "outputs": [
    {
     "name": "stdout",
     "output_type": "stream",
     "text": [
      "tolal Likes: 86\n"
     ]
    }
   ],
   "execution_count": 6
  },
  {
   "metadata": {},
   "cell_type": "code",
   "outputs": [],
   "execution_count": null,
   "source": "",
   "id": "a260d8ff9bb652c6"
  }
 ],
 "metadata": {
  "kernelspec": {
   "display_name": "Python 3 (ipykernel)",
   "language": "python",
   "name": "python3"
  },
  "language_info": {
   "codemirror_mode": {
    "name": "ipython",
    "version": 2
   },
   "file_extension": ".py",
   "mimetype": "text/x-python",
   "name": "python",
   "nbconvert_exporter": "python",
   "pygments_lexer": "ipython2",
   "version": "2.7.6"
  }
 },
 "nbformat": 4,
 "nbformat_minor": 5
}
