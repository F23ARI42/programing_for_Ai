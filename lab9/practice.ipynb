{
 "cells": [
  {
   "cell_type": "code",
   "id": "initial_id",
   "metadata": {
    "collapsed": true,
    "ExecuteTime": {
     "end_time": "2025-03-27T04:26:56.322029Z",
     "start_time": "2025-03-27T04:26:56.306617Z"
    }
   },
   "source": "print(\"hello world\")",
   "outputs": [
    {
     "name": "stdout",
     "output_type": "stream",
     "text": [
      "hello world\n"
     ]
    }
   ],
   "execution_count": 1
  },
  {
   "metadata": {
    "ExecuteTime": {
     "end_time": "2025-03-27T04:30:52.787007Z",
     "start_time": "2025-03-27T04:30:52.773140Z"
    }
   },
   "cell_type": "code",
   "source": [
    "import json\n",
    "json_string = '{\"name\": \"Alice\", \"age\": 25, \"city\": \"New York\"}'\n",
    "data = json.loads(json_string)\n",
    "print(data[\"name\"])"
   ],
   "id": "2bb9783d1c2adc95",
   "outputs": [
    {
     "name": "stdout",
     "output_type": "stream",
     "text": [
      "Alice\n"
     ]
    }
   ],
   "execution_count": 2
  },
  {
   "metadata": {
    "ExecuteTime": {
     "end_time": "2025-03-27T04:31:09.724982Z",
     "start_time": "2025-03-27T04:31:09.705816Z"
    }
   },
   "cell_type": "code",
   "source": [
    "python_dict = {\"name\": \"Bob\", \"age\": 30, \"city\": \"Los Angeles\"}\n",
    "json_output = json.dumps(python_dict)\n",
    "print(json_output)"
   ],
   "id": "86266c8931f34764",
   "outputs": [
    {
     "name": "stdout",
     "output_type": "stream",
     "text": [
      "{\"name\": \"Bob\", \"age\": 30, \"city\": \"Los Angeles\"}\n"
     ]
    }
   ],
   "execution_count": 3
  },
  {
   "metadata": {
    "ExecuteTime": {
     "end_time": "2025-03-27T04:31:52.361343Z",
     "start_time": "2025-03-27T04:31:52.352332Z"
    }
   },
   "cell_type": "code",
   "source": [
    "json_pretty = json.dumps(python_dict, indent=4)\n",
    "print(json_pretty)"
   ],
   "id": "2ee953e57070b01",
   "outputs": [
    {
     "name": "stdout",
     "output_type": "stream",
     "text": [
      "{\n",
      "\"name\": \"Bob\",\n",
      "\"age\": 30,\n",
      "\"city\": \"Los Angeles\"\n",
      "}\n"
     ]
    }
   ],
   "execution_count": 6
  },
  {
   "metadata": {
    "ExecuteTime": {
     "end_time": "2025-03-27T04:32:49.969288Z",
     "start_time": "2025-03-27T04:32:49.952643Z"
    }
   },
   "cell_type": "code",
   "source": [
    "with open(\"output.json\", \"w\") as file:\n",
    "    json.dump(python_dict, file, indent=4)"
   ],
   "id": "1294d07739dc5eb9",
   "outputs": [],
   "execution_count": 8
  },
  {
   "metadata": {
    "ExecuteTime": {
     "end_time": "2025-03-27T04:35:04.081613Z",
     "start_time": "2025-03-27T04:35:04.070772Z"
    }
   },
   "cell_type": "code",
   "source": [
    "with open(\"output.json\", \"r\") as file:\n",
    "    data = json.load(file)\n",
    "    print(data)"
   ],
   "id": "e71456838ace4989",
   "outputs": [
    {
     "name": "stdout",
     "output_type": "stream",
     "text": [
      "{'name': 'Bob', 'age': 30, 'city': 'Los Angeles'}\n"
     ]
    }
   ],
   "execution_count": 10
  },
  {
   "metadata": {
    "ExecuteTime": {
     "end_time": "2025-03-27T04:36:01.801844Z",
     "start_time": "2025-03-27T04:36:01.792039Z"
    }
   },
   "cell_type": "code",
   "source": [
    "data[\"age\"] =28\n",
    "print(json.dumps(data, indent=4))"
   ],
   "id": "1f752c60bd6b4afc",
   "outputs": [
    {
     "name": "stdout",
     "output_type": "stream",
     "text": [
      "{\n",
      "    \"name\": \"Bob\",\n",
      "    \"age\": 28,\n",
      "    \"city\": \"Los Angeles\"\n",
      "}\n"
     ]
    }
   ],
   "execution_count": 11
  },
  {
   "metadata": {},
   "cell_type": "code",
   "outputs": [],
   "execution_count": null,
   "source": "",
   "id": "5e4cae2132d8967c"
  }
 ],
 "metadata": {
  "kernelspec": {
   "display_name": "Python 3",
   "language": "python",
   "name": "python3"
  },
  "language_info": {
   "codemirror_mode": {
    "name": "ipython",
    "version": 2
   },
   "file_extension": ".py",
   "mimetype": "text/x-python",
   "name": "python",
   "nbconvert_exporter": "python",
   "pygments_lexer": "ipython2",
   "version": "2.7.6"
  }
 },
 "nbformat": 4,
 "nbformat_minor": 5
}
